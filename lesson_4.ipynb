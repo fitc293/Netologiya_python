{
 "cells": [
  {
   "cell_type": "markdown",
   "metadata": {},
   "source": [
    "**Задание 1.  \n",
    "Напишите функцию date_range, которая возвращает список дней между датами start_date и end_date. Даты должны вводиться в формате YYYY-MM-DD.   **\n",
    "\n",
    "**Задание 2.  \n",
    "Дополните функцию из первого задания проверкой на корректность дат. В случае неверного формата или если start_date > end_date должен возвращаться пустой список.**"
   ]
  },
  {
   "cell_type": "code",
   "execution_count": 59,
   "metadata": {},
   "outputs": [
    {
     "data": {
      "text/plain": [
       "['2019-09-01',\n",
       " '2019-09-02',\n",
       " '2019-09-03',\n",
       " '2019-09-04',\n",
       " '2019-09-05',\n",
       " '2019-09-06',\n",
       " '2019-09-07']"
      ]
     },
     "execution_count": 59,
     "metadata": {},
     "output_type": "execute_result"
    }
   ],
   "source": [
    "from datetime import datetime\n",
    "\n",
    "def date_range(start_date, end_date):   \n",
    "    try:\n",
    "        date_list = []\n",
    "        start_date_datetime = datetime.strptime(start_date, '%Y-%m-%d')\n",
    "        end_date_datetime   = datetime.strptime(end_date,   '%Y-%m-%d')\n",
    "    except:\n",
    "        return 'Неверный формат даты'\n",
    "        \n",
    "    while start_date_datetime <= end_date_datetime:\n",
    "        date_list.append(start_date_datetime.strftime('%Y-%m-%d'))\n",
    "    \n",
    "        start_date_datetime += timedelta(days=1)\n",
    "    return date_list\n",
    "\n",
    "date_range('2019-09-01', '2019-09-07')"
   ]
  },
  {
   "cell_type": "markdown",
   "metadata": {},
   "source": [
    "**Задание 3.  \n",
    "Дан поток дат в формате YYYY-MM-DD, в которых встречаются некорректные значения:\n",
    "stream = [‘2018-04-02’, ‘2018-02-29’, ‘2018-19-02’]  **\n",
    "\n",
    "**Напишите функцию, которая проверяет эти даты на корректность. Т. е. для каждой даты возвращает True (дата корректна) или False (некорректная дата).**"
   ]
  },
  {
   "cell_type": "code",
   "execution_count": 58,
   "metadata": {},
   "outputs": [
    {
     "name": "stdout",
     "output_type": "stream",
     "text": [
      "2018-04-02 True\n",
      "2018-02-29 False\n",
      "2018-19-02 False\n"
     ]
    }
   ],
   "source": [
    "stream =['2018-04-02', '2018-02-29', '2018-19-02']\n",
    "\n",
    "def check_date(lst): \n",
    "    for str_dat in lst:\n",
    "        try:\n",
    "            date_datetime = datetime.strptime(str_dat, '%Y-%m-%d')\n",
    "            print(str_dat, True)\n",
    "        except:\n",
    "            print(str_dat, False)\n",
    "        \n",
    "check_date(stream)"
   ]
  },
  {
   "cell_type": "markdown",
   "metadata": {},
   "source": [
    "**Задание 4.  \n",
    "Напишите функцию, которая возвращает список дат с 1 по вчерашний день текущего месяца. Если дан 1 день месяца, то возвращается список дней прошлого месяца.**"
   ]
  },
  {
   "cell_type": "code",
   "execution_count": 89,
   "metadata": {},
   "outputs": [
    {
     "name": "stdout",
     "output_type": "stream",
     "text": [
      "2019-06-01 00:00:00\n",
      "2019-06-02 00:00:00\n",
      "2019-06-03 00:00:00\n",
      "2019-06-04 00:00:00\n",
      "2019-06-05 00:00:00\n",
      "2019-06-06 00:00:00\n",
      "2019-06-07 00:00:00\n",
      "2019-06-08 00:00:00\n",
      "2019-06-09 00:00:00\n",
      "2019-06-10 00:00:00\n",
      "2019-06-11 00:00:00\n",
      "2019-06-12 00:00:00\n",
      "2019-06-13 00:00:00\n",
      "2019-06-14 00:00:00\n"
     ]
    }
   ],
   "source": [
    "def out_date():\n",
    "    end_date = datetime.now() - timedelta(days=1)\n",
    "    start_date = datetime(end_date.year, end_date.month, 1)\n",
    "    \n",
    "    while start_date <= end_date:\n",
    "        print(start_date)\n",
    "    \n",
    "        start_date += timedelta(days=1)\n",
    "out_date()"
   ]
  }
 ],
 "metadata": {
  "kernelspec": {
   "display_name": "Python 3",
   "language": "python",
   "name": "python3"
  },
  "language_info": {
   "codemirror_mode": {
    "name": "ipython",
    "version": 3
   },
   "file_extension": ".py",
   "mimetype": "text/x-python",
   "name": "python",
   "nbconvert_exporter": "python",
   "pygments_lexer": "ipython3",
   "version": "3.6.4"
  }
 },
 "nbformat": 4,
 "nbformat_minor": 2
}
